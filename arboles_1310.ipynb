{
  "nbformat": 4,
  "nbformat_minor": 0,
  "metadata": {
    "colab": {
      "name": "arboles_1310.ipynb",
      "provenance": [],
      "collapsed_sections": [],
      "authorship_tag": "ABX9TyMTiekQQYVnFYr4FuBoiZk5",
      "include_colab_link": true
    },
    "kernelspec": {
      "name": "python3",
      "display_name": "Python 3"
    },
    "language_info": {
      "name": "python"
    }
  },
  "cells": [
    {
      "cell_type": "markdown",
      "metadata": {
        "id": "view-in-github",
        "colab_type": "text"
      },
      "source": [
        "<a href=\"https://colab.research.google.com/github/CarlosGarMon/Cuestionario_control_17/blob/main/arboles_1310.ipynb\" target=\"_parent\"><img src=\"https://colab.research.google.com/assets/colab-badge.svg\" alt=\"Open In Colab\"/></a>"
      ]
    },
    {
      "cell_type": "code",
      "metadata": {
        "id": "rKYlOxx6CPQo"
      },
      "source": [
        "class NodoBinario:\n",
        "    def __init__( self, value, left = None, right = None ):\n",
        "        self.data = value\n",
        "        self.left = left \n",
        "        self.right = right \n",
        "\n",
        "class NodoTernario: \n",
        "    def __init__( self, value, left = None, center = None, right = None ):\n",
        "        self.data = value\n",
        "        self.left = left \n",
        "        self.center = center \n",
        "        self.right = right "
      ],
      "execution_count": 2,
      "outputs": []
    },
    {
      "cell_type": "code",
      "metadata": {
        "colab": {
          "base_uri": "https://localhost:8080/"
        },
        "id": "4el225NzD0j9",
        "outputId": "c1715f31-7d9a-453b-f1db-b4d5826a1de0"
      },
      "source": [
        "arbol1 = NodoBinario( \"R\", NodoBinario(\"C\"), NodoBinario(\"H\"))\n",
        "print(arbol1.right.data)\n",
        "\n",
        "arbol2 = NodoTernario( 4, NodoTernario(3, NodoTernario(5, left = NodoTernario(2) ), NodoTernario(5), NodoTernario(2) ), None, NodoTernario(5) )\n",
        "print(arbol2.left.right.data)\n",
        "print(arbol2.data)\n",
        "print(arbol2.left.center.data)\n",
        "print(arbol2.right.left)\n",
        "print(arbol2.left.left.left.data)\n",
        "\n",
        "print(\"---- Sin usar la palabra left en el print ----\")\n",
        "aux = arbol2 \n",
        "while( aux. left != None ):\n",
        "    aux = aux.left\n",
        "print(aux.data)\n",
        "\n",
        "root = NodoBinario(\"Santi\",None,NodoBinario(\"Jesus\",NodoBinario(\"Pedro\",None,NodoBinario(\"Pedro Jr.\"))))\n",
        "print(root.right.left.right.data)"
      ],
      "execution_count": 15,
      "outputs": [
        {
          "output_type": "stream",
          "name": "stdout",
          "text": [
            "H\n",
            "2\n",
            "4\n",
            "5\n",
            "None\n",
            "2\n",
            "---- Sin usar la palabra left en el print ----\n",
            "2\n",
            "Pedro Jr.\n"
          ]
        }
      ]
    }
  ]
}